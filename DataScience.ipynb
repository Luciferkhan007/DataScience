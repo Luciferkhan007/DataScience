{
 "cells": [
  {
   "cell_type": "code",
   "execution_count": 22,
   "metadata": {},
   "outputs": [],
   "source": [
    "#Do NOT change the below line\n",
    "import numpy as np\n",
    "import pandas as pd\n",
    "from sklearn.model_selection import train_test_split\n",
    "from sklearn.svm import SVC\n",
    "from sklearn.preprocessing import MinMaxScaler\n",
    "from pandas.api.types import is_categorical_dtype\n",
    "rfilepath=\"C:/Users/Public/Documents/data/Income_slab.csv\""
   ]
  },
  {
   "cell_type": "markdown",
   "metadata": {},
   "source": [
    "Q1-1"
   ]
  },
  {
   "cell_type": "code",
   "execution_count": 2,
   "metadata": {},
   "outputs": [],
   "source": [
    "def loadData(rfilepath):\n",
    "    return pd.read_csv(rfilepath) "
   ]
  },
  {
   "cell_type": "code",
   "execution_count": 3,
   "metadata": {},
   "outputs": [],
   "source": [
    "try:\n",
    "    income_df = loadData(rfilepath)\n",
    "except:\n",
    "    print(\"error\")"
   ]
  },
  {
   "cell_type": "markdown",
   "metadata": {},
   "source": [
    "Q1-2"
   ]
  },
  {
   "cell_type": "code",
   "execution_count": 4,
   "metadata": {},
   "outputs": [],
   "source": [
    "def encodeCategorical(income_df):\n",
    "    income_df['work_class'].fillna(income_df['work_class'].mode(),inplace=True)\n",
    "    income_df['occupation'].fillna(income_df['occupation'].mode(),inplace=True)\n",
    "    income_df=pd.get_dummies(income_df,columns=['work_class','marital_status','occupation','race','sex'],drop_first=True,dtype=int)\n",
    "    return income_df\n",
    "    "
   ]
  },
  {
   "cell_type": "code",
   "execution_count": 5,
   "metadata": {},
   "outputs": [],
   "source": [
    "try:\n",
    "    income_df=encodeCategorical(income_df)\n",
    "except:\n",
    "    print('Error')"
   ]
  },
  {
   "cell_type": "markdown",
   "metadata": {},
   "source": [
    "Q1-3"
   ]
  },
  {
   "cell_type": "code",
   "execution_count": 6,
   "metadata": {},
   "outputs": [],
   "source": [
    "def updateColumn(income_df):\n",
    "    income_df['gross_income']=[1 if value == '>50K' else 0 for value in income_df['gross_income']]\n",
    "    income_df.drop('education',axis=1,inplace=True)\n",
    "    return income_df"
   ]
  },
  {
   "cell_type": "code",
   "execution_count": 7,
   "metadata": {},
   "outputs": [],
   "source": [
    "try:\n",
    "    income_df=updateColumn(income_df)\n",
    "except:\n",
    "    print('Error')"
   ]
  },
  {
   "cell_type": "markdown",
   "metadata": {},
   "source": [
    "Q1-4"
   ]
  },
  {
   "cell_type": "code",
   "execution_count": 8,
   "metadata": {},
   "outputs": [],
   "source": [
    "def setDtype(income_df):\n",
    "    income_df['gross_income']=income_df['gross_income'].astype('category')\n",
    "    income_df['education_num']=income_df['education_num'].astype('category')\n",
    "    return income_df\n"
   ]
  },
  {
   "cell_type": "code",
   "execution_count": 9,
   "metadata": {},
   "outputs": [],
   "source": [
    "try:\n",
    "    income_df=setDtype(income_df)\n",
    "except:\n",
    "    print('Error')\n",
    "\n"
   ]
  },
  {
   "cell_type": "markdown",
   "metadata": {},
   "source": [
    "Q1-5"
   ]
  },
  {
   "cell_type": "code",
   "execution_count": 10,
   "metadata": {},
   "outputs": [],
   "source": [
    "# Return train score, test score, modell prediction for the given data in order\n",
    "def normalize(income_df):\n",
    "    scaler=MinMaxScaler()\n",
    "    income_df[['points','capital_gain','capital_loss']]=scaler.fit_transform(income_df[['points','capital_gain','capital_loss']])\n",
    "    return income_df"
   ]
  },
  {
   "cell_type": "code",
   "execution_count": 11,
   "metadata": {},
   "outputs": [],
   "source": [
    "try:\n",
    "    income_df_norm = normalize(income_df)\n",
    "except:\n",
    "    print('Error')"
   ]
  },
  {
   "cell_type": "markdown",
   "metadata": {},
   "source": [
    "Q1-6"
   ]
  },
  {
   "cell_type": "code",
   "execution_count": 12,
   "metadata": {},
   "outputs": [],
   "source": [
    "def featureSelection(income_df_norm):\n",
    "    X=income_df_norm.drop(columns=['gross_income'])\n",
    "    y=income_df_norm['gross_income']\n",
    "    return X,y"
   ]
  },
  {
   "cell_type": "code",
   "execution_count": 13,
   "metadata": {},
   "outputs": [],
   "source": [
    "try:\n",
    "    X,y=featureSelection(income_df_norm)\n",
    "except:\n",
    "    print('Error')"
   ]
  },
  {
   "cell_type": "markdown",
   "metadata": {},
   "source": [
    "Q1-7"
   ]
  },
  {
   "cell_type": "code",
   "execution_count": 14,
   "metadata": {},
   "outputs": [],
   "source": [
    "#Return train score, test score, model2 prediction for the given data in order\n",
    "def trainTestSplit(X,y):\n",
    "    X_train,X_test,y_train,y_test=train_test_split(X,y,test_size=0.2,random_state=100)\n",
    "    return X_train,X_test,y_train,y_test"
   ]
  },
  {
   "cell_type": "code",
   "execution_count": 15,
   "metadata": {},
   "outputs": [],
   "source": [
    "try:\n",
    "    X_train,X_test,y_train,y_test=trainTestSplit(X,y)\n",
    "except:\n",
    "    print('Error')"
   ]
  },
  {
   "cell_type": "markdown",
   "metadata": {},
   "source": [
    "Q1-8"
   ]
  },
  {
   "cell_type": "code",
   "execution_count": 16,
   "metadata": {},
   "outputs": [],
   "source": [
    "#Return test score, test score, model2 prediction for the given data in order\n",
    "def buildModel(X_train,X_test,y_train,y_test):\n",
    "    model=SVC()\n",
    "    model.fit(X_train,y_train)\n",
    "    train_score=model.score(X_train,y_train)\n",
    "    test_score=model.score(X_test,y_test)\n",
    "    return train_score,test_score,model"
   ]
  },
  {
   "cell_type": "code",
   "execution_count": 17,
   "metadata": {},
   "outputs": [],
   "source": [
    "try:\n",
    "    train_score,test_score,model=buildModel(X_train,X_test,y_train,y_test)\n",
    "except:\n",
    "    print('Error')"
   ]
  },
  {
   "cell_type": "markdown",
   "metadata": {},
   "source": [
    "Q 2-1"
   ]
  },
  {
   "cell_type": "code",
   "execution_count": 18,
   "metadata": {},
   "outputs": [],
   "source": [
    "def create_matrix():\n",
    "    A=np.array([[3, 2, -1],[-2, 2, 1],[ 1, 1, 1]])\n",
    "    B=np.array([6, 3, 4])\n",
    "    return A,B\n"
   ]
  },
  {
   "cell_type": "code",
   "execution_count": 19,
   "metadata": {},
   "outputs": [],
   "source": [
    "try:\n",
    "    A,B=create_matrix()\n",
    "except:\n",
    "    print('Error')\n",
    "\n"
   ]
  },
  {
   "cell_type": "markdown",
   "metadata": {},
   "source": [
    "Q 2-2"
   ]
  },
  {
   "cell_type": "code",
   "execution_count": 20,
   "metadata": {},
   "outputs": [],
   "source": [
    "def solveForxyz(A,B):\n",
    "    if np.linalg.det(A)!=0:\n",
    "        x,y,z=np.linalg.solve(A,B)\n",
    "        return round(x),round(y),round(z)\n",
    "    "
   ]
  },
  {
   "cell_type": "code",
   "execution_count": 21,
   "metadata": {},
   "outputs": [],
   "source": [
    "try:\n",
    "    x,y,z=solveForxyz(A,B) \n",
    "except:\n",
    "    print('Error')\n"
   ]
  }
 ],
 "metadata": {
  "kernelspec": {
   "display_name": "Python 3",
   "language": "python",
   "name": "python3"
  },
  "language_info": {
   "codemirror_mode": {
    "name": "ipython",
    "version": 3
   },
   "file_extension": ".py",
   "mimetype": "text/x-python",
   "name": "python",
   "nbconvert_exporter": "python",
   "pygments_lexer": "ipython3",
   "version": "3.11.4"
  },
  "orig_nbformat": 4
 },
 "nbformat": 4,
 "nbformat_minor": 2
}
